{
 "cells": [
  {
   "attachments": {},
   "cell_type": "markdown",
   "id": "f3a874dc",
   "metadata": {},
   "source": [
    "# Getting started: Coding with Help from AI\n",
    "  \n",
    "**Tools used: Jupyter Notebook + ChatGPT (or another LLM assistant, the free version is fine!)**"
   ]
  },
  {
   "attachments": {},
   "cell_type": "markdown",
   "id": "f3ec48f0",
   "metadata": {},
   "source": [
    "## 1. Where am I?\n",
    "\n",
    "A You're in a Jupyter notebook. This is an interactive environment which allows you to execute small snippets of a programming language called **python**\n",
    "\n",
    "- The notebook is built from text blocks and code blocks\n",
    "- To run some code, paste some code into the code block. Press shift + enter to run it\n",
    "\n",
    "Today, you’ll try out asking an LLM to help you write and understand simple Python code in this notebook."
   ]
  },
  {
   "attachments": {},
   "cell_type": "markdown",
   "id": "733c4b8a",
   "metadata": {},
   "source": [
    "## 2. Printing a Message\n",
    "\n",
    "**Task:**  \n",
    "In the box below, write code to print your name using Python. You can ask the LLM:\n",
    "\n",
    "`How do I print my name in Python?`"
   ]
  },
  {
   "cell_type": "code",
   "execution_count": null,
   "id": "a7234093",
   "metadata": {},
   "outputs": [],
   "source": [
    "# Replace \"Your Name\" with your own\n",
    "print(\"Your Name\")"
   ]
  },
  {
   "attachments": {},
   "cell_type": "markdown",
   "id": "b86bde0c",
   "metadata": {},
   "source": [
    "**Explanation:**\n",
    "\n",
    "This code uses the `print()` function to display text on the screen. You can replace `'Your Name'` with your own name inside the quotation marks."
   ]
  },
  {
   "attachments": {},
   "cell_type": "markdown",
   "id": "0706d5c3",
   "metadata": {},
   "source": [
    "## 3. Simple Math\n",
    "\n",
    "**Task:**  \n",
    "Ask the LLM how to add two numbers together in Python. Then try it here:"
   ]
  },
  {
   "cell_type": "code",
   "execution_count": null,
   "id": "aa59b793",
   "metadata": {},
   "outputs": [],
   "source": [
    "# Add two numbers together\n",
    "2 + 3"
   ]
  },
  {
   "attachments": {},
   "cell_type": "markdown",
   "id": "eba4050d",
   "metadata": {},
   "source": [
    "**Explanation:**\n",
    "\n",
    "This will return `5`, which is the sum of 2 and 3. You can use `+` for addition, `-` for subtraction, `*` for multiplication, and `/` for division."
   ]
  },
  {
   "cell_type": "code",
   "execution_count": null,
   "id": "dce7b856",
   "metadata": {},
   "outputs": [],
   "source": [
    "# Multiply two numbers\n",
    "4 * 7"
   ]
  },
  {
   "attachments": {},
   "cell_type": "markdown",
   "id": "1ec09756",
   "metadata": {},
   "source": [
    "**Explanation:**\n",
    "\n",
    "This will return `28`, which is the result of multiplying 4 by 7. Try changing the numbers and running the cell again."
   ]
  },
  {
   "attachments": {},
   "cell_type": "markdown",
   "id": "240fbddb",
   "metadata": {},
   "source": [
    "## 4. Using Variables\n",
    "\n",
    "**Task:**  \n",
    "Ask the LLM:\n",
    "\n",
    "`What is a variable in Python?`\n",
    "\n",
    "Then try this:"
   ]
  },
  {
   "cell_type": "code",
   "execution_count": null,
   "id": "5bed400e",
   "metadata": {},
   "outputs": [],
   "source": [
    "name = \"Alex\"\n",
    "age = 30\n",
    "print(name)\n",
    "print(age)"
   ]
  },
  {
   "attachments": {},
   "cell_type": "markdown",
   "id": "10280967",
   "metadata": {},
   "source": [
    "**Explanation:**\n",
    "\n",
    "`name` and `age` are variables. Variables store values that you can reuse later. You can assign them using the `=` sign and use them by name."
   ]
  },
  {
   "attachments": {},
   "cell_type": "markdown",
   "id": "60e0b685",
   "metadata": {},
   "source": [
    "## 5. Optional: Using a Loop\n",
    "\n",
    "**Task:**  \n",
    "Ask the LLM:\n",
    "\n",
    "`How do I repeat something 5 times in Python?`\n",
    "\n",
    "Try this code:"
   ]
  },
  {
   "cell_type": "code",
   "execution_count": null,
   "id": "0ed5d5e9",
   "metadata": {},
   "outputs": [],
   "source": [
    "for i in range(5):\n",
    "    print(\"Hello!\")"
   ]
  },
  {
   "attachments": {},
   "cell_type": "markdown",
   "id": "4cc0116b",
   "metadata": {},
   "source": [
    "**Explanation:**\n",
    "\n",
    "This code uses a `for` loop to repeat the print statement 5 times. `range(5)` generates numbers from 0 to 4."
   ]
  },
  {
   "attachments": {},
   "cell_type": "markdown",
   "id": "65d82487",
   "metadata": {},
   "source": [
    "## 6. Reflection: What Did the LLM Help You Do?\n",
    "\n",
    "Write a sentence or two below:\n",
    "\n",
    "- What was one thing the LLM helped you with?\n",
    "- Did anything surprise you about using it?"
   ]
  },
  {
   "cell_type": "code",
   "execution_count": null,
   "id": "4a134c33",
   "metadata": {},
   "outputs": [],
   "source": [
    "# Your reflections here (this won't be run as code)"
   ]
  },
  {
   "attachments": {},
   "cell_type": "markdown",
   "id": "a5af1a70",
   "metadata": {},
   "source": [
    "## 7. Wrap-Up\n",
    "\n",
    "You’ve just:\n",
    "- Run Python code in a notebook\n",
    "- Used an LLM to guide and support your coding\n",
    "- Learned how to ask it useful questions\n",
    "\n",
    "**Next steps (if time allows):**\n",
    "- Try asking: `How do I get today’s date in Python?`\n",
    "- Explore: `What is a list in Python?`"
   ]
  }
 ],
 "metadata": {
  "kernelspec": {
   "display_name": "Python 3 (ipykernel)",
   "language": "python",
   "name": "python3"
  },
  "language_info": {
   "codemirror_mode": {
    "name": "ipython",
    "version": 3
   },
   "file_extension": ".py",
   "mimetype": "text/x-python",
   "name": "python",
   "nbconvert_exporter": "python",
   "pygments_lexer": "ipython3",
   "version": "3.11.7"
  }
 },
 "nbformat": 4,
 "nbformat_minor": 5
}
