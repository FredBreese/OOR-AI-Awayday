{
 "cells": [
  {
   "attachments": {},
   "cell_type": "markdown",
   "id": "f3a874dc",
   "metadata": {},
   "source": [
    "# Getting started: Coding with Help from AI\n",
    "  \n",
    "**Tools used: Jupyter Notebook + ChatGPT (or another LLM assistant, the free version is fine!)**"
   ]
  },
  {
   "attachments": {},
   "cell_type": "markdown",
   "id": "f3ec48f0",
   "metadata": {},
   "source": [
    "## 1. Where am I?\n",
    "\n",
    "You're in a Jupyter notebook. This is an interactive environment which allows you to execute small snippets of a programming language called **python**\n",
    "\n",
    "- The notebook is built from text blocks and code blocks. You can click into them to edit the text.\n",
    "- To run some code, paste it into the code block. Then press shift + enter and the notebook will execute it for you\n",
    "\n",
    "Today, you’ll try out asking an LLM to help you explore what's become known as \"vibecoding\" (yuck)."
   ]
  },
  {
   "attachments": {},
   "cell_type": "markdown",
   "id": "733c4b8a",
   "metadata": {},
   "source": [
    "## 2. Inputs and Outputs: Printing a Message\n",
    "\n",
    "Lines of code are instructions you're feeding to the computer.  \n",
    "In the box below, you can execute the code to print \"Hello World\" out on the screen using Python. Click into the box, then press shift + enter\n"
   ]
  },
  {
   "cell_type": "code",
   "execution_count": null,
   "id": "a7234093",
   "metadata": {},
   "outputs": [],
   "source": [
    "print(\"Hello world\")"
   ]
  },
  {
   "attachments": {},
   "cell_type": "markdown",
   "id": "0706d5c3",
   "metadata": {},
   "source": [
    "## 3. What time is it\n",
    "\n",
    "Python is an incredible tool for a massive range of tasks. You can **import** tools from a wide range of **libraries** to help with this"
   ]
  },
  {
   "cell_type": "code",
   "execution_count": null,
   "id": "aa59b793",
   "metadata": {},
   "outputs": [],
   "source": [
    "# In code blocks text preceeded by a hash is \"commented out\", so the computer doesn't try to execute it as code\n",
    "\n",
    "# Ask ChatGPT, how can I tell the time using python? Paste the code here\n",
    "\n",
    "\n",
    "#What about building a real-time clock you can read out of a Jupyter notebook?\n"
   ]
  },
  {
   "attachments": {},
   "cell_type": "markdown",
   "id": "240fbddb",
   "metadata": {},
   "source": [
    "## 4. Data\n",
    "\n",
    "**Task:**  \n",
    "Ask the LLM:\n",
    "\n",
    "`What is a variable in Python?`\n",
    "\n",
    "Then try this:"
   ]
  },
  {
   "cell_type": "code",
   "execution_count": null,
   "id": "5bed400e",
   "metadata": {},
   "outputs": [],
   "source": [
    "import pandas as pd\n",
    "\n",
    "# Load the data\n",
    "df = pd.read_csv(\"classic_books.csv\")\n",
    "\n",
    "# Display the data\n",
    "df.head()  # Show just the first 5 rows"
   ]
  },
  {
   "attachments": {},
   "cell_type": "markdown",
   "id": "65d82487",
   "metadata": {},
   "source": [
    "## 6. Reflection: What Did the LLM Help You Do?\n",
    "\n",
    "Write a sentence or two below:\n",
    "\n",
    "- What was one thing the LLM helped you with?\n",
    "- Did anything surprise you about using it?"
   ]
  },
  {
   "cell_type": "code",
   "execution_count": null,
   "id": "4a134c33",
   "metadata": {},
   "outputs": [],
   "source": [
    "# Your reflections here (this won't be run as code)"
   ]
  },
  {
   "attachments": {},
   "cell_type": "markdown",
   "id": "a5af1a70",
   "metadata": {},
   "source": [
    "## 7. Wrap-Up\n",
    "\n",
    "You’ve just:\n",
    "- Run Python code in a notebook\n",
    "- Used an LLM to guide and support your coding\n",
    "- Learned how to ask it useful questions\n",
    "\n",
    "**Next steps (if time allows):**\n",
    "- Try asking: `How do I get today’s date in Python?`\n",
    "- Explore: `What is a list in Python?`"
   ]
  }
 ],
 "metadata": {
  "kernelspec": {
   "display_name": "Python 3 (ipykernel)",
   "language": "python",
   "name": "python3"
  },
  "language_info": {
   "codemirror_mode": {
    "name": "ipython",
    "version": 3
   },
   "file_extension": ".py",
   "mimetype": "text/x-python",
   "name": "python",
   "nbconvert_exporter": "python",
   "pygments_lexer": "ipython3",
   "version": "3.11.7"
  }
 },
 "nbformat": 4,
 "nbformat_minor": 5
}
