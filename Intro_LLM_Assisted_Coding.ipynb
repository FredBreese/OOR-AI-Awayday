{
 "cells": [
  {
   "attachments": {},
   "cell_type": "markdown",
   "id": "f3a874dc",
   "metadata": {},
   "source": [
    "# Getting started: Coding with Help from AI\n",
    "  \n",
    "**Tools used: Jupyter Notebook + ChatGPT (or another LLM assistant, the free version is fine!)**"
   ]
  },
  {
   "attachments": {},
   "cell_type": "markdown",
   "id": "f3ec48f0",
   "metadata": {},
   "source": [
    "## 1. Where am I?\n",
    "\n",
    "You're in a Jupyter notebook. This is an interactive environment where you can run small snippets of a programming language called **python**\n",
    "\n",
    "- The notebook is built from text blocks and code blocks. You can click into them to edit the text.\n",
    "- To run some code, paste it into the code block. Then press shift + enter and the notebook will execute it for you\n",
    "\n",
    "Today, you’ll be asking an LLM to help you explore what's known as \"vibecoding\" (yuck)."
   ]
  },
  {
   "attachments": {},
   "cell_type": "markdown",
   "id": "733c4b8a",
   "metadata": {},
   "source": [
    "## 2. Inputs and Outputs: Printing a Message\n",
    "\n",
    "Lines of code are instructions you're feeding to the computer.  \n",
    "In the box below, you can execute the code to print \"Hello World\" out on the screen using Python. Click into the box, then press shift + enter\n"
   ]
  },
  {
   "cell_type": "code",
   "execution_count": null,
   "id": "a7234093",
   "metadata": {},
   "outputs": [],
   "source": [
    "print(\"Hello world\")"
   ]
  },
  {
   "attachments": {},
   "cell_type": "markdown",
   "id": "0706d5c3",
   "metadata": {},
   "source": [
    "## 3. What time is it\n",
    "\n",
    "Python is an incredible tool for a massive range of tasks. You can **import** tools from a wide range of **libraries** to help with this"
   ]
  },
  {
   "cell_type": "code",
   "execution_count": null,
   "id": "aa59b793",
   "metadata": {},
   "outputs": [],
   "source": [
    "# In code blocks text preceeded by a hash is \"commented out\", so the computer doesn't try to execute it as code\n",
    "\n",
    "# Ask ChatGPT, how can I tell the time using python? Paste the code here\n",
    "\n",
    "\n",
    "#What about building a real-time clock you can read out of a Jupyter notebook?\n"
   ]
  },
  {
   "attachments": {},
   "cell_type": "markdown",
   "id": "040e7aa9",
   "metadata": {},
   "source": [
    "<details>\n",
    "<summary>Click to reveal the answer</summary>\n",
    "\n",
    "```python\n",
    "from datetime import datetime\n",
    "\n",
    "# Get current date and time\n",
    "now = datetime.now()\n",
    "\n",
    "# Print just the time\n",
    "print(\"Current time:\", now.strftime(\"%H:%M:%S\"))\n"
   ]
  },
  {
   "attachments": {},
   "cell_type": "markdown",
   "id": "240fbddb",
   "metadata": {},
   "source": [
    "## 4. Data\n",
    "\n",
    "One of the most exciting features of Python is how it handles Data. I usually think of it as super-excel! I've loaded a list of books below into a **dataframe**. Don't worry about what this is - for the time being you can refer to it as df\n",
    "\n"
   ]
  },
  {
   "cell_type": "code",
   "execution_count": 1,
   "id": "5bed400e",
   "metadata": {},
   "outputs": [
    {
     "data": {
      "text/html": [
       "<div>\n",
       "<style scoped>\n",
       "    .dataframe tbody tr th:only-of-type {\n",
       "        vertical-align: middle;\n",
       "    }\n",
       "\n",
       "    .dataframe tbody tr th {\n",
       "        vertical-align: top;\n",
       "    }\n",
       "\n",
       "    .dataframe thead th {\n",
       "        text-align: right;\n",
       "    }\n",
       "</style>\n",
       "<table border=\"1\" class=\"dataframe\">\n",
       "  <thead>\n",
       "    <tr style=\"text-align: right;\">\n",
       "      <th></th>\n",
       "      <th>title</th>\n",
       "      <th>isbn</th>\n",
       "      <th>author</th>\n",
       "      <th>pub-date</th>\n",
       "    </tr>\n",
       "  </thead>\n",
       "  <tbody>\n",
       "    <tr>\n",
       "      <th>0</th>\n",
       "      <td>Mansfield Park</td>\n",
       "      <td>978-1-4032-9211-7</td>\n",
       "      <td>Jane Austen</td>\n",
       "      <td>31/01/2001</td>\n",
       "    </tr>\n",
       "    <tr>\n",
       "      <th>1</th>\n",
       "      <td>Northanger Abbey</td>\n",
       "      <td>978-1-238-18236-2</td>\n",
       "      <td>Jane Austen</td>\n",
       "      <td>23/06/1966</td>\n",
       "    </tr>\n",
       "    <tr>\n",
       "      <th>2</th>\n",
       "      <td>Wuthering Heights</td>\n",
       "      <td>978-0-564-69335-1</td>\n",
       "      <td>Emily Brontë</td>\n",
       "      <td>03/11/1928</td>\n",
       "    </tr>\n",
       "    <tr>\n",
       "      <th>3</th>\n",
       "      <td>The Two Towers</td>\n",
       "      <td>978-0-943567-71-6</td>\n",
       "      <td>J.R.R. Tolkien</td>\n",
       "      <td>18/02/1947</td>\n",
       "    </tr>\n",
       "    <tr>\n",
       "      <th>4</th>\n",
       "      <td>Sense and Sensibility</td>\n",
       "      <td>978-1-373-37212-3</td>\n",
       "      <td>Jane Austen</td>\n",
       "      <td>31/10/1978</td>\n",
       "    </tr>\n",
       "  </tbody>\n",
       "</table>\n",
       "</div>"
      ],
      "text/plain": [
       "                   title               isbn          author    pub-date\n",
       "0         Mansfield Park  978-1-4032-9211-7     Jane Austen  31/01/2001\n",
       "1       Northanger Abbey  978-1-238-18236-2     Jane Austen  23/06/1966\n",
       "2      Wuthering Heights  978-0-564-69335-1    Emily Brontë  03/11/1928\n",
       "3         The Two Towers  978-0-943567-71-6  J.R.R. Tolkien  18/02/1947\n",
       "4  Sense and Sensibility  978-1-373-37212-3     Jane Austen  31/10/1978"
      ]
     },
     "execution_count": 1,
     "metadata": {},
     "output_type": "execute_result"
    }
   ],
   "source": [
    "import pandas as pd\n",
    "\n",
    "# Load the data\n",
    "df = pd.read_csv(\"classic_books.csv\")\n",
    "\n",
    "# Display the data\n",
    "df.head()  # Show just the first 5 rows"
   ]
  },
  {
   "cell_type": "code",
   "execution_count": null,
   "id": "f68b77bd",
   "metadata": {},
   "outputs": [],
   "source": [
    "# Try askign chatgpt how to search how many books there are by Jane Austen (tip: you're searching a pandas dataframe)\n",
    "\n",
    "\n",
    "\n",
    "# Some of the records have errors in - try asking ChatGPT how to account for this in your previous search"
   ]
  },
  {
   "attachments": {},
   "cell_type": "markdown",
   "id": "65d82487",
   "metadata": {},
   "source": [
    "## 5. Conclusion: What Did the LLM Help You Do?\n",
    "\n",
    "LLMs are incredibly good at writing code.\n",
    "- What was one thing the LLM helped you with?\n",
    "- Did anything surprise you about using it?"
   ]
  }
 ],
 "metadata": {
  "kernelspec": {
   "display_name": "Python 3 (ipykernel)",
   "language": "python",
   "name": "python3"
  },
  "language_info": {
   "codemirror_mode": {
    "name": "ipython",
    "version": 3
   },
   "file_extension": ".py",
   "mimetype": "text/x-python",
   "name": "python",
   "nbconvert_exporter": "python",
   "pygments_lexer": "ipython3",
   "version": "3.11.7"
  }
 },
 "nbformat": 4,
 "nbformat_minor": 5
}
